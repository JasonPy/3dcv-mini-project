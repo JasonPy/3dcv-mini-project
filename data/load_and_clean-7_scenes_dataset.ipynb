{
 "cells": [
  {
   "cell_type": "markdown",
   "metadata": {},
   "source": [
    "# Load and Clean 7 Scenes Dataset"
   ]
  },
  {
   "cell_type": "markdown",
   "metadata": {},
   "source": [
    "## 1. Chess"
   ]
  },
  {
   "cell_type": "code",
   "execution_count": null,
   "metadata": {},
   "outputs": [],
   "source": [
    "!wget download.microsoft.com/download/2/8/5/28564B23-0828-408F-8631-23B1EFF1DAC8/chess.zip -nc\n",
    "!./unzip_dataset.sh chess"
   ]
  },
  {
   "cell_type": "markdown",
   "metadata": {},
   "source": [
    "## 2. Fire"
   ]
  },
  {
   "cell_type": "code",
   "execution_count": 113,
   "metadata": {},
   "outputs": [],
   "source": [
    "!chmod +x unzip_dataset.sh\n",
    "!wget download.microsoft.com/download/2/8/5/28564B23-0828-408F-8631-23B1EFF1DAC8/fire.zip -nc\n",
    "!./unzip_dataset.sh fire"
   ]
  },
  {
   "cell_type": "markdown",
   "metadata": {},
   "source": [
    "## 3. Heads"
   ]
  },
  {
   "cell_type": "code",
   "execution_count": 9,
   "metadata": {},
   "outputs": [
    {
     "name": "stdout",
     "output_type": "stream",
     "text": [
      "--2022-03-01 02:05:35--  http://download.microsoft.com/download/2/8/5/28564B23-0828-408F-8631-23B1EFF1DAC8/heads.zip\n",
      "Resolving download.microsoft.com (download.microsoft.com)... 23.213.164.137, 2a02:26f0:3400:198::e59, 2a02:26f0:3400:19c::e59\n",
      "Connecting to download.microsoft.com (download.microsoft.com)|23.213.164.137|:80... connected.\n",
      "HTTP request sent, awaiting response... 302 Moved Temporarily\n",
      "Location: https://download.microsoft.com/download/2/8/5/28564B23-0828-408F-8631-23B1EFF1DAC8/heads.zip [following]\n",
      "--2022-03-01 02:05:36--  https://download.microsoft.com/download/2/8/5/28564B23-0828-408F-8631-23B1EFF1DAC8/heads.zip\n",
      "Connecting to download.microsoft.com (download.microsoft.com)|23.213.164.137|:443... connected.\n",
      "HTTP request sent, awaiting response... 200 OK\n",
      "Length: 956332240 (912M) [application/octet-stream]\n",
      "Saving to: ‘heads.zip’\n",
      "\n",
      "heads.zip           100%[===================>] 912,03M  4,29MB/s    in 3m 33s  \n",
      "\n",
      "2022-03-01 02:09:09 (4,27 MB/s) - ‘heads.zip’ saved [956332240/956332240]\n",
      "\n"
     ]
    }
   ],
   "source": [
    "!wget download.microsoft.com/download/2/8/5/28564B23-0828-408F-8631-23B1EFF1DAC8/heads.zip -nc\n",
    "!./unzip_dataset.sh heads"
   ]
  },
  {
   "cell_type": "markdown",
   "metadata": {},
   "source": [
    "## 4. Office"
   ]
  },
  {
   "cell_type": "code",
   "execution_count": null,
   "metadata": {},
   "outputs": [],
   "source": [
    "!wget download.microsoft.com/download/2/8/5/28564B23-0828-408F-8631-23B1EFF1DAC8/office.zip  -nc\n",
    "!./unzip_dataset.sh office"
   ]
  },
  {
   "cell_type": "markdown",
   "metadata": {},
   "source": [
    "## 5. Pumpkin"
   ]
  },
  {
   "cell_type": "code",
   "execution_count": null,
   "metadata": {},
   "outputs": [],
   "source": [
    "!wget download.microsoft.com/download/2/8/5/28564B23-0828-408F-8631-23B1EFF1DAC8/pumpkin.zip -nc\n",
    "!./unzip_dataset.sh pumpkin"
   ]
  },
  {
   "cell_type": "markdown",
   "metadata": {},
   "source": [
    "## 6. RedKitchen"
   ]
  },
  {
   "cell_type": "code",
   "execution_count": null,
   "metadata": {},
   "outputs": [],
   "source": [
    "!wget download.microsoft.com/download/2/8/5/28564B23-0828-408F-8631-23B1EFF1DAC8/redkitchen.zip -nc\n",
    "!./unzip_dataset.sh redkitchen"
   ]
  },
  {
   "cell_type": "markdown",
   "metadata": {},
   "source": [
    "## 7. Stairs"
   ]
  },
  {
   "cell_type": "code",
   "execution_count": null,
   "metadata": {},
   "outputs": [],
   "source": [
    "!wget download.microsoft.com/download/2/8/5/28564B23-0828-408F-8631-23B1EFF1DAC8/stairs.zip -nc\n",
    "!./unzip_dataset.sh stairs"
   ]
  }
 ],
 "metadata": {
  "interpreter": {
   "hash": "160da64e0deff7d0df9af07f9cedba48bcfd44cf0926ed9afde6759be0b531b0"
  },
  "kernelspec": {
   "display_name": "Python 3.8.10 ('3dcv-mp': venv)",
   "language": "python",
   "name": "python3"
  },
  "language_info": {
   "codemirror_mode": {
    "name": "ipython",
    "version": 3
   },
   "file_extension": ".py",
   "mimetype": "text/x-python",
   "name": "python",
   "nbconvert_exporter": "python",
   "pygments_lexer": "ipython3",
   "version": "3.8.10"
  },
  "orig_nbformat": 4
 },
 "nbformat": 4,
 "nbformat_minor": 2
}
