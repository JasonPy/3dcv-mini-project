{
 "cells": [
  {
   "cell_type": "markdown",
   "metadata": {},
   "source": [
    "# Project Proposal - Group C\n",
    "| Name | Student ID |\n",
    "| :----------- | :----------- |\n",
    "| Nadine Theisen | 3475402 |\n",
    "| Falk Ebert | 4018276       |\n",
    "| Marven Hinze   | 3664283        |\n",
    "| Jason Pyanowski   | 3663907        |\n"
   ]
  },
  {
   "cell_type": "markdown",
   "metadata": {},
   "source": [
    "## Camera Localization\n",
    "**Task:** Our goal is to apply scene coordinate regression and compare different approaches. \\\n",
    "**Methology:** We want to implement a CNN with different loss functions or a decision tree. A comparison with extracted and matched features (SIFT/LIFT) could also be interesting. Even different RANSAC versions may be implemented. \\\n",
    "**Data:** We want to use either a scenery based on objectes that are obtained by a CAD tool or data from a benchmark, i.e. BOP. \\\n",
    "**Evaluation:** The obtained camera poses are compared to the ground truth via tranlational/rotational error. According to these measures, the approaches are evaluated."
   ]
  },
  {
   "cell_type": "markdown",
   "metadata": {},
   "source": [
    "\n",
    "## One Shot Pose Estimation\n",
    "**Task:** Our goal is to estimate the 6D pose of an object. \\\n",
    "**Methology:** We want to use an image and obtain the object coordinates via object coordinate regression. Then use Kabsch and RANSAC algorithm to obtain the final 6D object pose. We want to decide later on if we include the implementation for the regression or if we mainly focus on the Kabsch-algorithm and the subsequent RANSAC implementation and compare different versions of them. \\\n",
    "**Data:** The used images are either based on synthetically generated objects from a CAD tool or a real scenery from i.e. the BOP benchmark. \\\n",
    "**Evaluation:**  Accuracy compared to groundtruth / benchmark "
   ]
  },
  {
   "cell_type": "markdown",
   "metadata": {},
   "source": [
    "## Object Tracking in 2D\n",
    "**Task:** Our goal is to track an object in a video sequence. \\\n",
    "**Methology:** Using a Particle, Kalman filter or structure from motion approach. In each frame the object of interest shoud be bounded by a box. \\\n",
    "**Data:** Benchmark like BOP.\\\n",
    "**Evaluation:** \n",
    "\n",
    "**Extension:** As a more specific task, we can also think of an extension where we track faces (and depending on our scope blurr them simultaneously). This extends the proposed topic to multiple-object tracking. We can use the Crowd of Heads Dataset as benchmark."
   ]
  },
  {
   "cell_type": "markdown",
   "metadata": {},
   "source": [
    "***\n",
    "We would be happy to get some feedback on which parts we should focus mainly or which are interesting for you.\\\n",
    "Thank you! :)"
   ]
  }
 ],
 "metadata": {
  "interpreter": {
   "hash": "160da64e0deff7d0df9af07f9cedba48bcfd44cf0926ed9afde6759be0b531b0"
  },
  "kernelspec": {
   "display_name": "Python 3.8.10 ('3dcv-mp': venv)",
   "language": "python",
   "name": "python3"
  },
  "language_info": {
   "name": "python",
   "version": "3.8.10"
  },
  "orig_nbformat": 4
 },
 "nbformat": 4,
 "nbformat_minor": 2
}
