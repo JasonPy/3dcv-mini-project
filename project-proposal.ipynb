{
 "cells": [
  {
   "cell_type": "markdown",
   "metadata": {},
   "source": [
    "# Project Proposal\n",
    "### Group C\n",
    "| Name | Student ID |\n",
    "| :----------- | :----------- |\n",
    "| Nadine Theisen | 123 |\n",
    "| Falk Ebert | 4018276       |\n",
    "| Marven Hinze   | 3664283        |\n",
    "| Jason Pyanowski   | 3663907        |\n",
    "\n",
    "<br>\n",
    "\n",
    "***"
   ]
  },
  {
   "cell_type": "markdown",
   "metadata": {},
   "source": [
    "### 1. Scene Coordinate Regression\n",
    "Our approach..."
   ]
  },
  {
   "cell_type": "markdown",
   "metadata": {},
   "source": [
    "* erst leichte geerierte objekte\n",
    "* dann datensatz\n",
    "* feature extraction variieren\n",
    "* Sceene coord regression -> teilaspekte: Datensatz variieren/ complexity, computergeneriert vs echte\n",
    "* decision tree vs CNN\n",
    "* vllt. Point Cloud zu mesh\n",
    "* evaluieren? errors alg, geom quantifizieren - ground truth zu eigenen objekten\n"
   ]
  },
  {
   "cell_type": "markdown",
   "metadata": {},
   "source": [
    "***\n",
    "### 2. Object Tracking\n",
    "We want to track objects and estimate their 6D pose in space. The used video stream is either based on synthetically generated objects from a CAD tool or a real scenery, such as the BOP benchmark. "
   ]
  },
  {
   "cell_type": "markdown",
   "metadata": {},
   "source": [
    "* track faces and blurr them\n",
    "* or track objects\n",
    "* track own objects via camera drive\n",
    "* BOP benchmark zum validieren\n",
    "* überlegen welche aspekte wir nehmen sollen -> coord. reg. - kabsch - ransac"
   ]
  },
  {
   "cell_type": "markdown",
   "metadata": {},
   "source": [
    "***\n",
    "### 3. Face Tracking\n",
    "Our goal is to apply face tracking and blurr the corresponding faces in the video sequence. ..."
   ]
  },
  {
   "cell_type": "markdown",
   "metadata": {},
   "source": [
    "* track and blurr"
   ]
  },
  {
   "cell_type": "markdown",
   "metadata": {},
   "source": []
  }
 ],
 "metadata": {
  "language_info": {
   "name": "python"
  },
  "orig_nbformat": 4
 },
 "nbformat": 4,
 "nbformat_minor": 2
}
