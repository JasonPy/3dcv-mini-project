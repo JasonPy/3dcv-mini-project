{
 "cells": [
  {
   "cell_type": "markdown",
   "metadata": {},
   "source": [
    "# Project Proposal\n",
    "### Group C\n",
    "| Name | Student ID |\n",
    "| :----------- | :----------- |\n",
    "| Nadine Theisen | 3475402 |\n",
    "| Falk Ebert | 4018276       |\n",
    "| Marven Hinze   | 3664283        |\n",
    "| Jason Pyanowski   | 3663907        |\n",
    "\n",
    "<br>\n",
    "\n",
    "***"
   ]
  },
  {
   "cell_type": "markdown",
   "metadata": {},
   "source": [
    "### 1. Camera Localization\n",
    "**Task:** Our goal is to apply scene coordinate regression and compare different approaches. \\\n",
    "**Methology:** We consider using a CNN with different loss functions or a decision tree. A comparison with extracted and matched features (SIFT/LIFT) could also be interesting. Even different RANSAC versions may be implemented. \\\n",
    "**Data:** We want to use either a scenery based on objectes that are obtained by a CAD tool or data from a benchmark, i.e. BOP. \\\n",
    "**Evaluation:** The obtained camera poses are compared to the ground truth via tranlational/rotational error. According to these measures, the approaches are evaluated."
   ]
  },
  {
   "cell_type": "markdown",
   "metadata": {},
   "source": [
    "***\n",
    "### 2. One Shot Pose Estimation\n",
    "**Task:** Our goal is to estimate the 6D pose of an object. \\\n",
    "**Methology:** We want to use an image and obtain the object coordinates via object coordinate regression. Then use Kabsch and RANSAC algorithm to obtain the final 6D object pose. We want to decide later on if we include the implementation for the regression or if we mainly focus on the Kabsch-algorithm and the subsequent RANSAC implementation and compare different versions of them. \\\n",
    "**Data:** The used images are either based on synthetically generated objects from a CAD tool or a real scenery from i.e. the BOP benchmark. \\\n",
    "**Evaluation:**  Accuracy compared to groundtruth / benchmark "
   ]
  },
  {
   "cell_type": "markdown",
   "metadata": {},
   "source": [
    "***\n",
    "### 3. Object Tracking in 2D\n",
    "**Task:** Our goal is to track an object in a video sequence. \\\n",
    "**Methology:** Using a Particle, Kalman filter or structure from motion approach. \\\n",
    "**Data:** Benchmark like BOP.\\\n",
    "**Evaluation:** Not yet discussed.\n",
    "\n",
    "**Extension:** We can also think of an extension where faces are tracked and blurred simultaneously. "
   ]
  }
 ],
 "metadata": {
  "language_info": {
   "name": "python"
  },
  "orig_nbformat": 4
 },
 "nbformat": 4,
 "nbformat_minor": 2
}
