{
 "cells": [
  {
   "cell_type": "code",
   "execution_count": 1,
   "id": "3cf027b4",
   "metadata": {},
   "outputs": [
    {
     "name": "stdout",
     "output_type": "stream",
     "text": [
      "Loading forest trained on \"redkitchen\"\n",
      "\tTIMESTAMP: 18/03/2022 21:30:57\n",
      "\tTREE_MAX_DEPTH: 16\n",
      "\tNUM_TRAIN_IMAGES_PER_TREE: 500\n",
      "\tNUM_SAMPLES_PER_IMAGE: 5000\n",
      "\tNUM_PARAMETER_SAMPLES: 1024\n"
     ]
    }
   ],
   "source": [
    "import pickle\n",
    "import numpy as np\n",
    "\n",
    "from data_loader import DataLoader\n",
    "from utils import millis\n",
    "\n",
    "def load_object(filename):\n",
    "    with open(filename, 'rb') as inp:\n",
    "        return pickle.load(inp)\n",
    "\n",
    "def draw_pointcloud(np_pointcloud):\n",
    "    pcd = open3d.geometry.PointCloud()\n",
    "    pcd.points = open3d.utility.Vector3dVector(np_pointcloud)\n",
    "    open3d.visualization.draw_geometries([pcd],\n",
    "                                    zoom=0.5,\n",
    "                                    front=[0.5, -0.2, -1],\n",
    "                                    lookat=[0, 0, 0],\n",
    "                                    up=[0, -1, 0.2])\n",
    "\n",
    "SCENE = 'redkitchen'\n",
    "DATA_PATH = '../data'\n",
    "\n",
    "params = load_object(f'params_{SCENE}.pkl')\n",
    "print(f'Loading forest trained on \"{SCENE}\"')\n",
    "\n",
    "[print(f'\\t{key}: {params[key]}') for key in [\n",
    "    'TIMESTAMP',\n",
    "    'TREE_MAX_DEPTH',\n",
    "    'NUM_TRAIN_IMAGES_PER_TREE',\n",
    "    'NUM_SAMPLES_PER_IMAGE',\n",
    "    'NUM_PARAMETER_SAMPLES']]\n",
    "forest = load_object(f'trained_forest_{SCENE}.pkl')"
   ]
  },
  {
   "cell_type": "code",
   "execution_count": 2,
   "id": "14860b1d",
   "metadata": {},
   "outputs": [
    {
     "name": "stderr",
     "output_type": "stream",
     "text": [
      "                                                                                                          \r"
     ]
    },
    {
     "name": "stdout",
     "output_type": "stream",
     "text": [
      "Evaluating tree for 160000 samples\n",
      "Finished after 39013.0ms\n"
     ]
    }
   ],
   "source": [
    "NUM_TEST_IMAGES = 200\n",
    "NUM_SAMPLES_PER_IMAGE = 800\n",
    "\n",
    "loader = DataLoader(DATA_PATH)\n",
    "\n",
    "# Sample points from tests data\n",
    "test_set_indices = params['TEST_INDICES']\n",
    "test_indices = np.random.choice(test_set_indices, NUM_TEST_IMAGES, replace = False)\n",
    "images_data = loader.load_dataset(SCENE, test_indices)\n",
    "p_s, w_s = loader.sample_from_data_set(\n",
    "    images_data = images_data,\n",
    "    num_samples = NUM_SAMPLES_PER_IMAGE)\n",
    "\n",
    "# Evalulate tree\n",
    "num_samples = NUM_TEST_IMAGES * NUM_SAMPLES_PER_IMAGE\n",
    "print(f'Evaluating tree for {num_samples} samples')\n",
    "start = millis()\n",
    "\n",
    "tree_predictions = forest.evaluate(p_s, images_data)\n",
    "print(f'Finished after {(millis() - start):5.1F}ms')\n",
    "images_data = None"
   ]
  },
  {
   "cell_type": "code",
   "execution_count": 3,
   "id": "bbef04f2",
   "metadata": {},
   "outputs": [],
   "source": [
    "# Extract predictions\n",
    "valid_predictions_tot = 0\n",
    "predictions = np.ndarray((num_samples * params['NUM_TREES'], 3), dtype=np.float64)\n",
    "\n",
    "for i, pred_s in enumerate(tree_predictions):\n",
    "    valid_mask = ~np.any(pred_s == -np.inf, axis=1)\n",
    "    pred_s_valid = pred_s[valid_mask]\n",
    "    valid_predictions = np.sum(valid_mask)\n",
    "    predictions[valid_predictions_tot:valid_predictions_tot+valid_predictions] = pred_s_valid\n",
    "    valid_predictions_tot += valid_predictions\n",
    "\n",
    "predictions = predictions[:valid_predictions_tot]"
   ]
  },
  {
   "cell_type": "code",
   "execution_count": 4,
   "id": "8fc61a25",
   "metadata": {},
   "outputs": [
    {
     "data": {
      "text/plain": [
       "<matplotlib.legend.Legend at 0x7f5597fde4c0>"
      ]
     },
     "execution_count": 4,
     "metadata": {},
     "output_type": "execute_result"
    },
    {
     "data": {
      "image/png": "[encoded data removed]",
      "text/plain": [
       "<Figure size 1008x576 with 1 Axes>"
      ]
     },
     "metadata": {
      "needs_background": "light"
     },
     "output_type": "display_data"
    }
   ],
   "source": [
    "from matplotlib import pyplot as plt\n",
    "\n",
    "plt.figure(figsize=(14,8))\n",
    "\n",
    "for i, pred_s in enumerate(tree_predictions):\n",
    "    valid_mask = ~np.any(pred_s == -np.inf, axis=1)\n",
    "    w_s_valid = w_s[valid_mask]\n",
    "    pred_s_valid = pred_s[valid_mask]\n",
    "\n",
    "    valid_predictions = np.sum(valid_mask)\n",
    "    errors = np.sum(np.abs(w_s_valid - pred_s_valid.copy()), axis=1)\n",
    "    plt.hist(errors, bins=50, fill=False, histtype='step', label=f'Tree {i}')\n",
    "\n",
    "plt.xlabel('Deviation [m]')\n",
    "plt.ylabel('Count')\n",
    "plt.legend()"
   ]
  },
  {
   "cell_type": "code",
   "execution_count": 5,
   "id": "ca66555b",
   "metadata": {
    "scrolled": false
   },
   "outputs": [
    {
     "name": "stdout",
     "output_type": "stream",
     "text": [
      "In depth  0 have       1 of       1 nodes 100.00%\n",
      "In depth  1 have       2 of       2 nodes 100.00%\n",
      "In depth  2 have       4 of       4 nodes 100.00%\n",
      "In depth  3 have       8 of       8 nodes 100.00%\n",
      "In depth  4 have      16 of      16 nodes 100.00%\n",
      "In depth  5 have      32 of      32 nodes 100.00%\n",
      "In depth  6 have      64 of      64 nodes 100.00%\n",
      "In depth  7 have     128 of     128 nodes 100.00%\n",
      "In depth  8 have     256 of     256 nodes 100.00%\n",
      "In depth  9 have     512 of     512 nodes 100.00%\n",
      "In depth 10 have    1024 of    1024 nodes 100.00%\n",
      "In depth 11 have    2048 of    2048 nodes 100.00%\n",
      "In depth 12 have    4096 of    4096 nodes 100.00%\n",
      "In depth 13 have    8192 of    8192 nodes 100.00%\n",
      "In depth 14 have   16326 of   16384 nodes 99.65%\n",
      "In depth 15 have   31708 of   32768 nodes 96.77%\n",
      "In depth 16 have   56592 of   65536 nodes 86.35%\n"
     ]
    }
   ],
   "source": [
    "tree = forest.trees[3]\n",
    "nodes_by_depth = [None] * (tree.max_depth + 1)\n",
    "\n",
    "for node_id in tree.nodes:\n",
    "    node = tree.nodes[node_id]\n",
    "    if nodes_by_depth[node.depth] == None:\n",
    "        nodes_by_depth[node.depth] = []\n",
    "    nodes_by_depth[node.depth].append(node)\n",
    "    \n",
    "for depth, nodes in enumerate(nodes_by_depth):\n",
    "    nodes_expected = 2 ** depth\n",
    "    print(f'In depth {depth:2} have {len(nodes):7} of {nodes_expected:7} nodes {len(nodes) * 100 / nodes_expected:3.2F}%')"
   ]
  },
  {
   "cell_type": "code",
   "execution_count": 6,
   "id": "36e56c13",
   "metadata": {
    "scrolled": false
   },
   "outputs": [
    {
     "data": {
      "image/png": "[encoded data removed]",
      "text/plain": [
       "<Figure size 432x288 with 1 Axes>"
      ]
     },
     "metadata": {
      "needs_background": "light"
     },
     "output_type": "display_data"
    },
    {
     "data": {
      "image/png": "[encoded data removed]",
      "text/plain": [
       "<Figure size 432x288 with 1 Axes>"
      ]
     },
     "metadata": {
      "needs_background": "light"
     },
     "output_type": "display_data"
    },
    {
     "data": {
      "image/png": "[encoded data removed]",
      "text/plain": [
       "<Figure size 432x288 with 1 Axes>"
      ]
     },
     "metadata": {
      "needs_background": "light"
     },
     "output_type": "display_data"
    },
    {
     "data": {
      "image/png": "[encoded data removed]",
      "text/plain": [
       "<Figure size 432x288 with 1 Axes>"
      ]
     },
     "metadata": {
      "needs_background": "light"
     },
     "output_type": "display_data"
    },
    {
     "data": {
      "image/png": "[encoded data removed]",
      "text/plain": [
       "<Figure size 432x288 with 1 Axes>"
      ]
     },
     "metadata": {
      "needs_background": "light"
     },
     "output_type": "display_data"
    },
    {
     "data": {
      "image/png": "[encoded data removed]",
      "text/plain": [
       "<Figure size 432x288 with 1 Axes>"
      ]
     },
     "metadata": {
      "needs_background": "light"
     },
     "output_type": "display_data"
    },
    {
     "data": {
      "image/png": "[encoded data removed]",
      "text/plain": [
       "<Figure size 432x288 with 1 Axes>"
      ]
     },
     "metadata": {
      "needs_background": "light"
     },
     "output_type": "display_data"
    }
   ],
   "source": [
    "tree = forest.trees[0]\n",
    "\n",
    "num_nodes = len(tree.nodes)\n",
    "num_params = len(tree.nodes['0'].params)\n",
    "param_names = ['tau', 'delta1x', 'delta1y', 'delta2x', 'delta2y', 'c1', 'c2']\n",
    "\n",
    "params_all = np.ndarray((num_params, num_nodes))\n",
    "num_non_leaf_nodes = 0\n",
    "\n",
    "for i, node_id in enumerate(tree.nodes):\n",
    "    node = tree.nodes[node_id]\n",
    "    \n",
    "    if node.node_id_left != '' and node.node_id_right != '':\n",
    "        num_non_leaf_nodes += 1\n",
    "        for j in range(num_params):\n",
    "            params_all[j][i] = node.params[j]\n",
    "            \n",
    "params_all = params_all[:,:num_non_leaf_nodes]\n",
    "\n",
    "for i, name in enumerate(param_names):\n",
    "    plt.title(name)\n",
    "    plt.hist(params_all[i], bins=200)\n",
    "    plt.yscale('log')\n",
    "    plt.show()"
   ]
  }
 ],
 "metadata": {
  "kernelspec": {
   "display_name": "Python 3 (ipykernel)",
   "language": "python",
   "name": "python3"
  },
  "language_info": {
   "codemirror_mode": {
    "name": "ipython",
    "version": 3
   },
   "file_extension": ".py",
   "mimetype": "text/x-python",
   "name": "python",
   "nbconvert_exporter": "python",
   "pygments_lexer": "ipython3",
   "version": "3.9.10"
  }
 },
 "nbformat": 4,
 "nbformat_minor": 5
}
